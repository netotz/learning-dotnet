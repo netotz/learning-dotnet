{
 "cells": [
  {
   "cell_type": "markdown",
   "metadata": {},
   "source": [
    "# Raise base class events in derived classes\n",
    "\n",
    "Let's create a smart kitchen that listens to multiple appliances in the room and logs what they're being used for."
   ]
  },
  {
   "cell_type": "code",
   "execution_count": null,
   "metadata": {
    "dotnet_interactive": {
     "language": "csharp"
    }
   },
   "outputs": [],
   "source": [
    "public class ProcessEventArgs : EventArgs {\n",
    "    public string Message { get; init; }\n",
    "    public DateTime TimeStamp { get; } = DateTime.Now;\n",
    "\n",
    "    public TimeSpan GetTimeElapsed(ProcessEventArgs previousProcess) {\n",
    "        return TimeStamp - previousProcess.TimeStamp;\n",
    "    }\n",
    "}"
   ]
  },
  {
   "cell_type": "code",
   "execution_count": null,
   "metadata": {
    "dotnet_interactive": {
     "language": "csharp"
    }
   },
   "outputs": [],
   "source": [
    "/// Publisher base class\n",
    "public abstract class Appliance {\n",
    "    public List<ProcessEventArgs> ProcessesHistory { get; } = new();\n",
    "\n",
    "    public event EventHandler<ProcessEventArgs> ProcessStartedEvent;\n",
    "\n",
    "    /// Derived classes can override and call this method\n",
    "    protected virtual void OnProcessStarted(ProcessEventArgs e) {\n",
    "        ProcessesHistory.Add(e);\n",
    "        // safely raise the event by using ?.Invoke\n",
    "        ProcessStartedEvent?.Invoke(this, e);\n",
    "    }\n",
    "}"
   ]
  },
  {
   "cell_type": "code",
   "execution_count": null,
   "metadata": {
    "dotnet_interactive": {
     "language": "csharp"
    }
   },
   "outputs": [],
   "source": [
    "public class Stove : Appliance {\n",
    "    class Top {\n",
    "        public int Index { get; init; }\n",
    "        public string Something { get; set; }\n",
    "        public bool IsBusy => !string.IsNullOrEmpty(Something);\n",
    "    }\n",
    "\n",
    "    private Top[] Tops { get; } = Enumerable.Range(1, 6)\n",
    "        .Select(i => new Top {\n",
    "            Index = i\n",
    "        })\n",
    "        .ToArray();\n",
    "    \n",
    "    public void Heat(string something, int onTop) {\n",
    "        if (Tops[onTop].IsBusy) {\n",
    "            Console.WriteLine($\"Stove top {onTop} is busy right now.\");\n",
    "            return;\n",
    "        }\n",
    "        Tops[onTop].Something = something;\n",
    "\n",
    "        var process = new ProcessEventArgs {\n",
    "            Message = $\"Start heating {something} at stove top {onTop}\"\n",
    "        };\n",
    "        OnProcessStarted(process);\n",
    "    }\n",
    "\n",
    "    protected override void OnProcessStarted(ProcessEventArgs e) {\n",
    "        base.OnProcessStarted(e);\n",
    "    }\n",
    "}"
   ]
  },
  {
   "cell_type": "code",
   "execution_count": null,
   "metadata": {
    "dotnet_interactive": {
     "language": "csharp"
    }
   },
   "outputs": [],
   "source": [
    "public class SmartKitchen {\n",
    "    public List<Appliance> Appliances { get; } = new();\n",
    "\n",
    "    public void AddApliance(Appliance appliance) {\n",
    "        Appliances.Add(appliance);\n",
    "        appliance.ProcessStartedEvent += HandleProcessStarted;\n",
    "    }\n",
    "\n",
    "    private void HandleProcessStarted(object sender, ProcessEventArgs e) {\n",
    "        Console.WriteLine($\"{sender.GetType()}:\\n\\t{e.Message}\\n\\t{e.TimeStamp}\");\n",
    "    }\n",
    "}"
   ]
  },
  {
   "cell_type": "code",
   "execution_count": null,
   "metadata": {
    "dotnet_interactive": {
     "language": "csharp"
    }
   },
   "outputs": [
    {
     "name": "stdout",
     "output_type": "stream",
     "text": [
      "Submission#49+Stove:\n",
      "\tStart heating water at stove top 0\n",
      "\t1/22/2022 2:57:37 PM\r\n"
     ]
    }
   ],
   "source": [
    "var stove = new Stove();\n",
    "var smartKitchen = new SmartKitchen();\n",
    "smartKitchen.AddApliance(stove);\n",
    "\n",
    "stove.Heat(\"water\", 0);"
   ]
  },
  {
   "cell_type": "code",
   "execution_count": null,
   "metadata": {
    "dotnet_interactive": {
     "language": "csharp"
    }
   },
   "outputs": [
    {
     "name": "stdout",
     "output_type": "stream",
     "text": [
      "Stove top 0 is busy right now.\r\n"
     ]
    }
   ],
   "source": [
    "stove.Heat(\"soup\", 0);"
   ]
  },
  {
   "cell_type": "code",
   "execution_count": null,
   "metadata": {
    "dotnet_interactive": {
     "language": "csharp"
    }
   },
   "outputs": [
    {
     "name": "stdout",
     "output_type": "stream",
     "text": [
      "Submission#49+Stove:\n",
      "\tStart heating soup at stove top 1\n",
      "\t1/22/2022 2:57:39 PM\r\n"
     ]
    }
   ],
   "source": [
    "stove.Heat(\"soup\", 1);"
   ]
  },
  {
   "cell_type": "code",
   "execution_count": null,
   "metadata": {
    "dotnet_interactive": {
     "language": "csharp"
    }
   },
   "outputs": [
    {
     "data": {
      "text/html": [
       "<table><thead><tr><th><i>index</i></th><th>Message</th><th>TimeStamp</th></tr></thead><tbody><tr><td>0</td><td>Start heating water at stove top 0</td><td><span>2022-01-22 14:57:37Z</span></td></tr><tr><td>1</td><td>Start heating soup at stove top 1</td><td><span>2022-01-22 14:57:39Z</span></td></tr></tbody></table>"
      ]
     },
     "metadata": {},
     "output_type": "display_data"
    }
   ],
   "source": [
    "stove.ProcessesHistory"
   ]
  }
 ],
 "metadata": {
  "kernelspec": {
   "display_name": ".NET (C#)",
   "language": "C#",
   "name": ".net-csharp"
  },
  "language_info": {
   "file_extension": ".cs",
   "mimetype": "text/x-csharp",
   "name": "C#",
   "pygments_lexer": "csharp",
   "version": "9.0"
  },
  "orig_nbformat": 4
 },
 "nbformat": 4,
 "nbformat_minor": 2
}
