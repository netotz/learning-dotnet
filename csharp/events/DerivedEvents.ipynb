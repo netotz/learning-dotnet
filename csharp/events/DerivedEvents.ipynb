{
 "cells": [
  {
   "cell_type": "markdown",
   "metadata": {},
   "source": [
    "# Raise base class events in derived classes\n",
    "\n",
    "Let's create a smart kitchen that monitors multiple appliances and logs what they're being used for."
   ]
  },
  {
   "cell_type": "code",
   "execution_count": null,
   "metadata": {
    "dotnet_interactive": {
     "language": "csharp"
    }
   },
   "outputs": [],
   "source": [
    "public class ProcessEventArgs : EventArgs {\n",
    "    public string Message { get; init; }\n",
    "    public DateTime Start { get; } = DateTime.Now;\n",
    "\n",
    "    public TimeSpan GetDuration(ProcessEventArgs previousProcess) {\n",
    "        return Start - previousProcess.Start;\n",
    "    }\n",
    "}"
   ]
  },
  {
   "cell_type": "code",
   "execution_count": null,
   "metadata": {
    "dotnet_interactive": {
     "language": "csharp"
    }
   },
   "outputs": [],
   "source": [
    "/// Publisher base class\n",
    "public abstract class Appliance {\n",
    "    public ProcessEventArgs CurrentProcess { get; set; }\n",
    "    public List<ProcessEventArgs> ProcessesHistory { get; } = new();\n",
    "    public Queue<ProcessEventArgs> ProcessesQueue { get; } = new();\n",
    "\n",
    "    public event EventHandler<ProcessEventArgs> ProcessStartedEvent;\n",
    "    public event EventHandler<ProcessEventArgs> ProcessEndedEvent;\n",
    "\n",
    "    /// Derived classes can override and call this method\n",
    "    protected virtual void OnProcessStarted(ProcessEventArgs e) {\n",
    "        CurrentProcess = e;\n",
    "        ProcessesHistory.Add(e);\n",
    "        // safely raise the event by using ?.Invoke\n",
    "        ProcessStartedEvent?.Invoke(this, e);\n",
    "    }\n",
    "\n",
    "    protected virtual void OnProcessEnded(ProcessEventArgs e) {\n",
    "        ProcessesHistory.Add(e);\n",
    "        ProcessEndedEvent?.Invoke(this, e);\n",
    "\n",
    "        if (ProcessesQueue.TryDequeue(out var nextProcess)) {\n",
    "            OnProcessStarted(nextProcess);\n",
    "        }\n",
    "    }\n",
    "}"
   ]
  },
  {
   "cell_type": "code",
   "execution_count": null,
   "metadata": {
    "dotnet_interactive": {
     "language": "csharp"
    }
   },
   "outputs": [],
   "source": [
    "public class Stove : Appliance {\n",
    "    class Top {\n",
    "        public int Index { get; init; }\n",
    "        public string Something { get; set; }\n",
    "        public bool IsBusy => !string.IsNullOrEmpty(Something);\n",
    "    }\n",
    "\n",
    "    private Top[] Tops { get; } = Enumerable.Range(1, 6)\n",
    "        .Select(i => new Top {\n",
    "            Index = i\n",
    "        })\n",
    "        .ToArray();\n",
    "    \n",
    "    public void Heat(string something, int onTop) {\n",
    "        var process = new ProcessEventArgs {\n",
    "            Message = $\"Start heating {something} at stove top {onTop}\"\n",
    "        };\n",
    "\n",
    "        if (Tops[onTop].IsBusy) {\n",
    "            Console.WriteLine($\"Stove top {onTop} is currently heating {Tops[onTop].Something}.\");\n",
    "            ProcessesQueue.Enqueue(process);\n",
    "            Console.WriteLine(\"Order enqueued.\");\n",
    "            return;\n",
    "        }\n",
    "        \n",
    "        Tops[onTop].Something = something;\n",
    "        OnProcessStarted(process);\n",
    "    }\n",
    "\n",
    "    public string Remove(int fromTop) {\n",
    "        if (!Tops[fromTop].IsBusy) {\n",
    "            Console.WriteLine($\"There's nothing on stove top {fromTop}.\");\n",
    "            return null;\n",
    "        }\n",
    "\n",
    "        var something = Tops[fromTop].Something;\n",
    "        Tops[fromTop].Something = null;\n",
    "\n",
    "        OnProcessEnded(new ProcessEventArgs {\n",
    "            Message = $\"End heating {something} on stove top {fromTop}.\"\n",
    "        });\n",
    "\n",
    "        return something;\n",
    "    }\n",
    "\n",
    "    protected override void OnProcessStarted(ProcessEventArgs e) {\n",
    "        base.OnProcessStarted(e);\n",
    "    }\n",
    "\n",
    "    protected override void OnProcessEnded(ProcessEventArgs e) {\n",
    "        base.OnProcessEnded(e);\n",
    "    }\n",
    "}"
   ]
  },
  {
   "cell_type": "code",
   "execution_count": null,
   "metadata": {
    "dotnet_interactive": {
     "language": "csharp"
    }
   },
   "outputs": [],
   "source": [
    "public class SmartKitchen {\n",
    "    public List<Appliance> Appliances { get; } = new();\n",
    "\n",
    "    public void AddApliance(Appliance appliance) {\n",
    "        Appliances.Add(appliance);\n",
    "        appliance.ProcessStartedEvent += LogProcess;\n",
    "        appliance.ProcessEndedEvent += LogProcess;\n",
    "    }\n",
    "\n",
    "    private void LogProcess(object sender, ProcessEventArgs e) {\n",
    "        Console.WriteLine($\"{sender.GetType()}:\\n\\t{e.Message}\\n\\t{e.Start}\");\n",
    "    }\n",
    "}"
   ]
  },
  {
   "cell_type": "code",
   "execution_count": null,
   "metadata": {
    "dotnet_interactive": {
     "language": "csharp"
    }
   },
   "outputs": [
    {
     "name": "stdout",
     "output_type": "stream",
     "text": [
      "Submission#166+Stove:\n",
      "\tStart heating water at stove top 0\n",
      "\t1/22/2022 4:31:40 PM\r\n"
     ]
    }
   ],
   "source": [
    "var smartKitchen = new SmartKitchen();\n",
    "var stove = new Stove();\n",
    "smartKitchen.AddApliance(stove);\n",
    "\n",
    "stove.Heat(\"water\", 0);"
   ]
  },
  {
   "cell_type": "code",
   "execution_count": null,
   "metadata": {
    "dotnet_interactive": {
     "language": "csharp"
    }
   },
   "outputs": [
    {
     "name": "stdout",
     "output_type": "stream",
     "text": [
      "Stove top 0 is currently heating water.\r\n",
      "Order enqueued.\r\n"
     ]
    }
   ],
   "source": [
    "stove.Heat(\"soup\", 0);"
   ]
  },
  {
   "cell_type": "code",
   "execution_count": null,
   "metadata": {
    "dotnet_interactive": {
     "language": "csharp"
    }
   },
   "outputs": [
    {
     "name": "stdout",
     "output_type": "stream",
     "text": [
      "Submission#166+Stove:\n",
      "\tStart heating coffee at stove top 1\n",
      "\t1/22/2022 4:31:41 PM\r\n"
     ]
    }
   ],
   "source": [
    "stove.Heat(\"coffee\", 1);"
   ]
  },
  {
   "cell_type": "code",
   "execution_count": null,
   "metadata": {
    "dotnet_interactive": {
     "language": "csharp"
    }
   },
   "outputs": [
    {
     "name": "stdout",
     "output_type": "stream",
     "text": [
      "Submission#166+Stove:\n",
      "\tEnd heating water on stove top 0.\n",
      "\t1/22/2022 4:31:41 PM\r\n",
      "Submission#166+Stove:\n",
      "\tStart heating soup at stove top 0\n",
      "\t1/22/2022 4:31:41 PM\r\n"
     ]
    },
    {
     "data": {
      "text/plain": [
       "water"
      ]
     },
     "metadata": {},
     "output_type": "display_data"
    }
   ],
   "source": [
    "stove.Remove(0)"
   ]
  },
  {
   "cell_type": "code",
   "execution_count": null,
   "metadata": {
    "dotnet_interactive": {
     "language": "csharp"
    }
   },
   "outputs": [],
   "source": [
    "public class Oven : Appliance {\n",
    "    private string Something { get; set; }\n",
    "    private float Temperature { get; set; }\n",
    "    public bool IsBusy => !string.IsNullOrEmpty(Something);\n",
    "\n",
    "    public void Bake(string something, float temperature) {\n",
    "        var process = new ProcessEventArgs {\n",
    "            Message = $\"Start baking {something} at {temperature} degrees.\"\n",
    "        };\n",
    "\n",
    "        if (IsBusy) {\n",
    "            Console.WriteLine($\"Oven is currently baking {Something}.\");\n",
    "            ProcessesQueue.Enqueue(process);\n",
    "            Console.WriteLine(\"Order enqueued.\");\n",
    "            return;\n",
    "        }\n",
    "\n",
    "        Something = something;\n",
    "        Temperature = temperature;\n",
    "\n",
    "        OnProcessStarted(process);\n",
    "    }\n",
    "\n",
    "    public string TakeOut() {\n",
    "        if (!IsBusy) {\n",
    "            Console.WriteLine(\"There's nothing in the oven.\");\n",
    "            return null;\n",
    "        }\n",
    "\n",
    "        var something = Something;\n",
    "        Something = null;\n",
    "        Temperature = 0;\n",
    "\n",
    "        OnProcessEnded(new ProcessEventArgs {\n",
    "            Message = $\"End baking {something}.\"\n",
    "        });\n",
    "\n",
    "        return something;\n",
    "    }\n",
    "\n",
    "    protected override void OnProcessStarted(ProcessEventArgs e) {\n",
    "        base.OnProcessStarted(e);\n",
    "    }\n",
    "\n",
    "    protected override void OnProcessEnded(ProcessEventArgs e) {\n",
    "        base.OnProcessEnded(e);\n",
    "    }\n",
    "}"
   ]
  },
  {
   "cell_type": "code",
   "execution_count": null,
   "metadata": {
    "dotnet_interactive": {
     "language": "csharp"
    }
   },
   "outputs": [
    {
     "name": "stdout",
     "output_type": "stream",
     "text": [
      "Submission#172+Oven:\n",
      "\tStart baking cake at 300 degrees.\n",
      "\t1/22/2022 4:31:41 PM\r\n"
     ]
    }
   ],
   "source": [
    "var oven = new Oven();\n",
    "smartKitchen.AddApliance(oven);\n",
    "\n",
    "oven.Bake(\"cake\", 300);"
   ]
  },
  {
   "cell_type": "code",
   "execution_count": null,
   "metadata": {
    "dotnet_interactive": {
     "language": "csharp"
    }
   },
   "outputs": [
    {
     "name": "stdout",
     "output_type": "stream",
     "text": [
      "Oven is currently baking cake.\r\n",
      "Order enqueued.\r\n",
      "Oven is currently baking cake.\r\n",
      "Order enqueued.\r\n"
     ]
    }
   ],
   "source": [
    "oven.Bake(\"turkey\", 220);\n",
    "oven.Bake(\"pie\", 100);"
   ]
  },
  {
   "cell_type": "code",
   "execution_count": null,
   "metadata": {
    "dotnet_interactive": {
     "language": "csharp"
    }
   },
   "outputs": [
    {
     "name": "stdout",
     "output_type": "stream",
     "text": [
      "Submission#172+Oven:\n",
      "\tEnd baking cake.\n",
      "\t1/22/2022 4:31:41 PM\r\n",
      "Submission#172+Oven:\n",
      "\tStart baking turkey at 220 degrees.\n",
      "\t1/22/2022 4:31:41 PM\r\n"
     ]
    },
    {
     "data": {
      "text/plain": [
       "cake"
      ]
     },
     "metadata": {},
     "output_type": "display_data"
    }
   ],
   "source": [
    "oven.TakeOut()"
   ]
  },
  {
   "cell_type": "code",
   "execution_count": null,
   "metadata": {
    "dotnet_interactive": {
     "language": "csharp"
    }
   },
   "outputs": [
    {
     "data": {
      "text/html": [
       "<table><thead><tr><th><i>index</i></th><th>Message</th><th>Start</th></tr></thead><tbody><tr><td>0</td><td>Start baking cake at 300 degrees.</td><td><span>2022-01-22 16:31:41Z</span></td></tr><tr><td>1</td><td>End baking cake.</td><td><span>2022-01-22 16:31:41Z</span></td></tr><tr><td>2</td><td>Start baking turkey at 220 degrees.</td><td><span>2022-01-22 16:31:41Z</span></td></tr></tbody></table>"
      ]
     },
     "metadata": {},
     "output_type": "display_data"
    }
   ],
   "source": [
    "oven.ProcessesHistory"
   ]
  }
 ],
 "metadata": {
  "kernelspec": {
   "display_name": ".NET (C#)",
   "language": "C#",
   "name": ".net-csharp"
  },
  "language_info": {
   "file_extension": ".cs",
   "mimetype": "text/x-csharp",
   "name": "C#",
   "pygments_lexer": "csharp",
   "version": "9.0"
  },
  "orig_nbformat": 4
 },
 "nbformat": 4,
 "nbformat_minor": 2
}
