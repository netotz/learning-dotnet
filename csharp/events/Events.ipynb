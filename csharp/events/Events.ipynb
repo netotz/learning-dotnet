{
 "cells": [
  {
   "cell_type": "markdown",
   "metadata": {
    "dotnet_interactive": {
     "language": "csharp"
    }
   },
   "source": [
    "## Understanding events in .NET\n",
    "\n",
    "Events enable a class or object (the publisher) to notify other classes or objects (the subscribers) when something occurs.\n",
    "\n",
    "- The publisher determines when to raise an event. It can have multiple subscribers.\n",
    "- The subscriber determines how to handle an event when it's raised. It can be subscribed to multiple events."
   ]
  },
  {
   "cell_type": "markdown",
   "metadata": {},
   "source": [
    "`System.EventHandler` is a delegate to handle an event that has no event data. Its signature is:\n",
    "\n",
    "```cs\n",
    "public delegate void EventHandler(object? sender, EventArgs e);\n",
    "```\n",
    "\n",
    "It's equivalent to:"
   ]
  },
  {
   "cell_type": "code",
   "execution_count": null,
   "metadata": {
    "dotnet_interactive": {
     "language": "csharp"
    }
   },
   "outputs": [],
   "source": [
    "public Action<object?, EventArgs> ActionEventHandler;"
   ]
  },
  {
   "cell_type": "markdown",
   "metadata": {},
   "source": [
    "`System.EventArgs` provides a value to use for events with no data, but it also represents the base class for events with data, e.g."
   ]
  },
  {
   "cell_type": "code",
   "execution_count": null,
   "metadata": {
    "dotnet_interactive": {
     "language": "csharp"
    }
   },
   "outputs": [],
   "source": [
    "public class MyEventArgs : EventArgs {\n",
    "    public string Message { get; }\n",
    "    public DateTime DateTime { get; }\n",
    "\n",
    "    public MyEventArgs(string message) {\n",
    "        Message = message;\n",
    "        DateTime = DateTime.Now;\n",
    "    }\n",
    "}"
   ]
  },
  {
   "cell_type": "markdown",
   "metadata": {},
   "source": [
    "It's possible to define a custom event handler if we have custom event data, like the class defined above:"
   ]
  },
  {
   "cell_type": "code",
   "execution_count": null,
   "metadata": {
    "dotnet_interactive": {
     "language": "csharp"
    }
   },
   "outputs": [],
   "source": [
    "public delegate void DefinedEventHandler(object sender, MyEventArgs args);"
   ]
  },
  {
   "cell_type": "markdown",
   "metadata": {},
   "source": [
    "which can also be defined using generics with `System.Action` class."
   ]
  },
  {
   "cell_type": "markdown",
   "metadata": {},
   "source": [
    "Events are declared with the `event` keyword in the publisher class:"
   ]
  },
  {
   "cell_type": "code",
   "execution_count": null,
   "metadata": {
    "dotnet_interactive": {
     "language": "csharp"
    }
   },
   "outputs": [],
   "source": [
    "public event DefinedEventHandler DefinedEvent;"
   ]
  },
  {
   "cell_type": "markdown",
   "metadata": {},
   "source": [
    "There's an option to use generic types for custom event data so it's not necessary to define a new delegate, as shown below:"
   ]
  },
  {
   "cell_type": "code",
   "execution_count": null,
   "metadata": {
    "dotnet_interactive": {
     "language": "csharp"
    }
   },
   "outputs": [],
   "source": [
    "public class Publisher {\n",
    "    public event EventHandler<MyEventArgs> MyEvent;\n",
    "\n",
    "    public void SendMessage(string message) {\n",
    "        var eventArgs = new MyEventArgs(message);\n",
    "        OnRaiseMyEvent(eventArgs);\n",
    "    }\n",
    "\n",
    "    public void OnRaiseMyEvent(MyEventArgs args) {\n",
    "        // use a copy of the event to avoid a race condition\n",
    "        var raiseEvent = MyEvent;\n",
    "\n",
    "        if (raiseEvent is null) {\n",
    "            // event is null if it doesn't have subscribers\n",
    "            return;\n",
    "        }\n",
    "\n",
    "        raiseEvent(this, args);\n",
    "    }\n",
    "}"
   ]
  },
  {
   "cell_type": "code",
   "execution_count": null,
   "metadata": {
    "dotnet_interactive": {
     "language": "csharp"
    }
   },
   "outputs": [],
   "source": [
    "public class Subscriber {\n",
    "    public int Id { get; }\n",
    "\n",
    "    public Subscriber(int id, Publisher publisher) {\n",
    "        Id = id;\n",
    "        publisher.MyEvent += HandleMyEvent;\n",
    "    }\n",
    "\n",
    "    public void HandleMyEvent(object sender, MyEventArgs args) {\n",
    "        Console.WriteLine($\"Subscriber {Id} received the following message:\\n{args.Message}\\nAt {args.DateTime.ToLongTimeString()}\\nFrom Publisher {sender.GetHashCode()}\");\n",
    "    }\n",
    "}"
   ]
  },
  {
   "cell_type": "code",
   "execution_count": null,
   "metadata": {
    "dotnet_interactive": {
     "language": "csharp"
    }
   },
   "outputs": [],
   "source": [
    "var publisher = new Publisher();\n",
    "var subscribers = Enumerable.Range(1, 3)\n",
    "    .Select(i => new Subscriber(i, publisher))\n",
    "    .ToList();"
   ]
  },
  {
   "cell_type": "code",
   "execution_count": null,
   "metadata": {
    "dotnet_interactive": {
     "language": "csharp"
    }
   },
   "outputs": [
    {
     "name": "stdout",
     "output_type": "stream",
     "text": [
      "Subscriber 1 received the following message:\n",
      "Good afternoon to all!\n",
      "At 6:41:19 PM\n",
      "From Publisher 32883568\r\n",
      "Subscriber 2 received the following message:\n",
      "Good afternoon to all!\n",
      "At 6:41:19 PM\n",
      "From Publisher 32883568\r\n",
      "Subscriber 3 received the following message:\n",
      "Good afternoon to all!\n",
      "At 6:41:19 PM\n",
      "From Publisher 32883568\r\n"
     ]
    }
   ],
   "source": [
    "publisher.SendMessage(\"Good afternoon to all!\");"
   ]
  },
  {
   "cell_type": "code",
   "execution_count": null,
   "metadata": {
    "dotnet_interactive": {
     "language": "csharp"
    }
   },
   "outputs": [],
   "source": []
  }
 ],
 "metadata": {
  "kernelspec": {
   "display_name": ".NET (C#)",
   "language": "C#",
   "name": ".net-csharp"
  },
  "language_info": {
   "file_extension": ".cs",
   "mimetype": "text/x-csharp",
   "name": "C#",
   "pygments_lexer": "csharp",
   "version": "9.0"
  },
  "orig_nbformat": 4
 },
 "nbformat": 4,
 "nbformat_minor": 2
}
