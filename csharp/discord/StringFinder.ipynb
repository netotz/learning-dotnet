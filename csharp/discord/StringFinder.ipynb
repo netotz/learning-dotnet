{
 "cells": [
  {
   "cell_type": "markdown",
   "metadata": {
    "dotnet_interactive": {
     "language": "csharp"
    }
   },
   "source": [
    "# String finder\n",
    "\n",
    "Write a program capable of counting the occurrences of a string (wordToSearch) in a List of sentences (sentences).\n",
    "\n",
    "The program should traverse each letter of each sentence to manually search for the search term. You are not allowed to use any string functions (e.g., `IndexOf()`, `LastIndexOf()`, `Split()`, `Substring()`, `Replace()`), but are allowed to use indexing (`[]`) and property `Length`. The search shall be case insensitive.\n",
    "\n",
    "The output shall consist of a printout of each sentence suffixed with a count of the occurrences of the search term ~~in green\n",
    "(refer to sample output)~~.\n",
    "\n",
    "The program should not have any hardcoding ~~(other than the sample input provided below)~~, and should work with any search term, and any set of sentences."
   ]
  },
  {
   "cell_type": "code",
   "execution_count": null,
   "metadata": {
    "dotnet_interactive": {
     "language": "csharp"
    }
   },
   "outputs": [],
   "source": [
    "var sentences = new List<string>() {\n",
    "    \"The animal I really dig,\",\n",
    "    \"Above all others is the pig.\",\n",
    "    \"Pigs are noble. Pigs are clever,\",\n",
    "    \"Pigs are courteous. However, \",\n",
    "    \"Now and then, to break this rule,\",\n",
    "    \"One meets a pig who is a fool.\",\n",
    "    \"What, for example, would you say\" ,\n",
    "    \"If strolling through the woods one day,\",\n",
    "    \"Right there in front of you you saw\",\n",
    "    \"A pig who'd built his house of STRAW?\",\n",
    "    \"The Wolf who saw it licked his lips,\",\n",
    "    \"And said, 'That pig has had his chips.\",\n",
    "    \"Little pig, little pig, let me come in!'\",\n",
    "    \"'No, no, by the hairs on my chinny-chin-chin!'\",\n",
    "    \"'Then I'll huff and I'll puff and I'll blow your house in!'\"\n",
    "};"
   ]
  },
  {
   "cell_type": "code",
   "execution_count": null,
   "metadata": {
    "dotnet_interactive": {
     "language": "csharp"
    }
   },
   "outputs": [],
   "source": [
    "void CountOccurrences(string word, List<string> sentences) {\n",
    "    var lowerWord = word.ToLower();\n",
    "\n",
    "    foreach (var sentence in sentences) {\n",
    "        var lowerSentence = sentence.ToLower();\n",
    "        var wordCount = 0;\n",
    "\n",
    "        for (var i = 0; i < lowerSentence.Length; i++) {\n",
    "            var isWordFound = true;\n",
    "\n",
    "            for (var j = 0; j < lowerWord.Length; j++, i++) {\n",
    "                if (lowerSentence[i] != lowerWord[j]) {\n",
    "                    isWordFound = false;\n",
    "                    break;\n",
    "                }\n",
    "            }\n",
    "\n",
    "            if (isWordFound) {\n",
    "                wordCount++;\n",
    "            }\n",
    "        }\n",
    "\n",
    "        Console.WriteLine($\"{sentence} [{wordCount}]\");\n",
    "    }\n",
    "}"
   ]
  },
  {
   "cell_type": "code",
   "execution_count": null,
   "metadata": {
    "dotnet_interactive": {
     "language": "csharp"
    }
   },
   "outputs": [
    {
     "name": "stdout",
     "output_type": "stream",
     "text": [
      "The animal I really dig, [0]\r\n",
      "Above all others is the pig. [1]\r\n",
      "Pigs are noble. Pigs are clever, [2]\r\n",
      "Pigs are courteous. However,  [1]\r\n",
      "Now and then, to break this rule, [0]\r\n",
      "One meets a pig who is a fool. [1]\r\n",
      "What, for example, would you say [0]\r\n",
      "If strolling through the woods one day, [0]\r\n",
      "Right there in front of you you saw [0]\r\n",
      "A pig who'd built his house of STRAW? [1]\r\n",
      "The Wolf who saw it licked his lips, [0]\r\n",
      "And said, 'That pig has had his chips. [1]\r\n",
      "Little pig, little pig, let me come in!' [2]\r\n",
      "'No, no, by the hairs on my chinny-chin-chin!' [0]\r\n",
      "'Then I'll huff and I'll puff and I'll blow your house in!' [0]\r\n"
     ]
    }
   ],
   "source": [
    "CountOccurrences(\"pig\", sentences);"
   ]
  }
 ],
 "metadata": {
  "kernelspec": {
   "display_name": ".NET (C#)",
   "language": "C#",
   "name": ".net-csharp"
  },
  "language_info": {
   "file_extension": ".cs",
   "mimetype": "text/x-csharp",
   "name": "C#",
   "pygments_lexer": "csharp",
   "version": "9.0"
  },
  "orig_nbformat": 4
 },
 "nbformat": 4,
 "nbformat_minor": 2
}
