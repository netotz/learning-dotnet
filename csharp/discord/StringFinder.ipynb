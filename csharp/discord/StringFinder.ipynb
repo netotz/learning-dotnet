{
 "cells": [
  {
   "cell_type": "markdown",
   "metadata": {
    "dotnet_interactive": {
     "language": "csharp"
    }
   },
   "source": [
    "# String finder\n",
    "\n",
    "Write a program capable of counting the occurrences of a string (wordToSearch) in a List of sentences (sentences).\n",
    "\n",
    "The program should traverse each letter of each sentence to manually search for the search term. You are not allowed to use any string functions (e.g., `IndexOf()`, `LastIndexOf()`, `Split()`, `Substring()`, `Replace()`), but are allowed to use indexing (`[]`) and property `Length`. The search shall be case insensitive.\n",
    "\n",
    "The output shall consist of a printout of each sentence suffixed with a count of the occurrences of the search term ~~in green\n",
    "(refer to sample output)~~.\n",
    "\n",
    "The program should not have any hardcoding ~~(other than the sample input provided below)~~, and should work with any search term, and any set of sentences."
   ]
  },
  {
   "cell_type": "code",
   "execution_count": null,
   "metadata": {
    "dotnet_interactive": {
     "language": "csharp"
    }
   },
   "outputs": [],
   "source": [
    "public void CountOccurrences(string word, List<string> sentences) {\n",
    "\n",
    "    foreach (var sentence in sentences) {\n",
    "        var wordCount = 0;\n",
    "        \n",
    "        for (int i = 0, j = 0; i < sentence.Length; i++) {\n",
    "            var lowerSentenceChar = char.ToLower(sentence[i]);\n",
    "            var lowerWordChar = char.ToLower(word[j]);\n",
    "\n",
    "            if (lowerSentenceChar == lowerWordChar) {\n",
    "                j++;\n",
    "\n",
    "                if (j >= word.Length) {\n",
    "                    wordCount++;\n",
    "                    j = 0;\n",
    "                }\n",
    "            }\n",
    "            else {\n",
    "                if (j > 0) {\n",
    "                    i--;\n",
    "                }\n",
    "\n",
    "                j = 0;\n",
    "            }\n",
    "        }\n",
    "\n",
    "        Console.WriteLine($\"{sentence} [{wordCount}]\");\n",
    "    }\n",
    "}"
   ]
  },
  {
   "cell_type": "code",
   "execution_count": null,
   "metadata": {
    "dotnet_interactive": {
     "language": "csharp"
    }
   },
   "outputs": [
    {
     "name": "stdout",
     "output_type": "stream",
     "text": [
      "The animal I really dig, [0]\r\n",
      "Above all others is the pig. [1]\r\n",
      "Pigs are noble. Pigs are clever, [2]\r\n",
      "Pigs are courteous. However,  [1]\r\n",
      "Now and then, to break this rule, [0]\r\n",
      "One meets a pig who is a fool. [1]\r\n",
      "What, for example, would you say [0]\r\n",
      "If strolling through the woods one day, [0]\r\n",
      "Right there in front of you you saw [0]\r\n",
      "A pig who'd built his house of STRAW? [1]\r\n",
      "The Wolf who saw it licked his lips, [0]\r\n",
      "And said, 'That pig has had his chips. [1]\r\n",
      "Little pig, little pig, let me come in!' [2]\r\n",
      "'No, no, by the hairs on my chinny-chin-chin!' [0]\r\n",
      "'Then I'll huff and I'll puff and I'll blow your house in!' [0]\r\n"
     ]
    }
   ],
   "source": [
    "var sentences = new List<string>() {\n",
    "    \"The animal I really dig,\",\n",
    "    \"Above all others is the pig.\",\n",
    "    \"Pigs are noble. Pigs are clever,\",\n",
    "    \"Pigs are courteous. However, \",\n",
    "    \"Now and then, to break this rule,\",\n",
    "    \"One meets a pig who is a fool.\",\n",
    "    \"What, for example, would you say\" ,\n",
    "    \"If strolling through the woods one day,\",\n",
    "    \"Right there in front of you you saw\",\n",
    "    \"A pig who'd built his house of STRAW?\",\n",
    "    \"The Wolf who saw it licked his lips,\",\n",
    "    \"And said, 'That pig has had his chips.\",\n",
    "    \"Little pig, little pig, let me come in!'\",\n",
    "    \"'No, no, by the hairs on my chinny-chin-chin!'\",\n",
    "    \"'Then I'll huff and I'll puff and I'll blow your house in!'\"\n",
    "};\n",
    "CountOccurrences(\"pig\", sentences)"
   ]
  },
  {
   "cell_type": "code",
   "execution_count": null,
   "metadata": {
    "dotnet_interactive": {
     "language": "csharp"
    }
   },
   "outputs": [
    {
     "name": "stdout",
     "output_type": "stream",
     "text": [
      "pigpig [2]\r\n",
      "pigpi [1]\r\n",
      "pppppigggggg [1]\r\n",
      "piggy pig pie [2]\r\n",
      "little pig what pig that piggums pig piggle pigpig [7]\r\n",
      "piiiiiig [0]\r\n",
      "gip [0]\r\n",
      "pig [1]\r\n",
      " pig  [1]\r\n",
      "none of thems here [0]\r\n",
      "pipig [1]\r\n",
      "pipipipig [1]\r\n",
      "pie go whoosh [0]\r\n",
      "PigS [1]\r\n"
     ]
    }
   ],
   "source": [
    "var messyPigs = new List<string> {\n",
    "    \"pigpig\",\n",
    "    \"pigpi\",\n",
    "    \"pppppigggggg\",\n",
    "    \"piggy pig pie\",\n",
    "    \"little pig what pig that piggums pig piggle pigpig\",\n",
    "    \"piiiiiig\",\n",
    "    \"gip\",\n",
    "    \"pig\",\n",
    "    \" pig \",\n",
    "    \"none of thems here\",\n",
    "    \"pipig\",\n",
    "    \"pipipipig\",\n",
    "    \"pie go whoosh\",\n",
    "    \"PigS\"\n",
    "};\n",
    "CountOccurrences(\"pig\", messyPigs)"
   ]
  },
  {
   "cell_type": "code",
   "execution_count": null,
   "metadata": {
    "dotnet_interactive": {
     "language": "csharp"
    }
   },
   "outputs": [
    {
     "name": "stdout",
     "output_type": "stream",
     "text": [
      "washed [1]\r\n",
      "wwashed [1]\r\n",
      "wawashed [1]\r\n",
      "waswashed [1]\r\n",
      "washwashed [1]\r\n",
      "washewashed [1]\r\n",
      "washedwashed [2]\r\n"
     ]
    }
   ],
   "source": [
    "var sentences = new List<string> {\n",
    "    \"washed\",\n",
    "    \"wwashed\",\n",
    "    \"wawashed\",\n",
    "    \"waswashed\",\n",
    "    \"washwashed\",\n",
    "    \"washewashed\",\n",
    "    \"washedwashed\"\n",
    "};\n",
    "CountOccurrences(\"washed\", sentences)"
   ]
  },
  {
   "cell_type": "code",
   "execution_count": null,
   "metadata": {
    "dotnet_interactive": {
     "language": "csharp"
    }
   },
   "outputs": [
    {
     "name": "stdout",
     "output_type": "stream",
     "text": [
      "nanan [1]\r\n"
     ]
    }
   ],
   "source": [
    "var sentences = new List<string> {\n",
    "    \"nanan\"\n",
    "};\n",
    "CountOccurrences(\"NaN\", sentences)"
   ]
  },
  {
   "cell_type": "code",
   "execution_count": null,
   "metadata": {
    "dotnet_interactive": {
     "language": "csharp"
    }
   },
   "outputs": [],
   "source": []
  }
 ],
 "metadata": {
  "kernelspec": {
   "display_name": ".NET (C#)",
   "language": "C#",
   "name": ".net-csharp"
  },
  "language_info": {
   "file_extension": ".cs",
   "mimetype": "text/x-csharp",
   "name": "C#",
   "pygments_lexer": "csharp",
   "version": "9.0"
  },
  "orig_nbformat": 4
 },
 "nbformat": 4,
 "nbformat_minor": 2
}
