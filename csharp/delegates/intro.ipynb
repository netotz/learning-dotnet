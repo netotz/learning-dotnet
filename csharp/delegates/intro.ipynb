{
 "cells": [
  {
   "cell_type": "markdown",
   "metadata": {
    "dotnet_interactive": {
     "language": "csharp"
    }
   },
   "source": [
    "# Understanding delegates\n",
    "\n",
    "A delegate encapsulates a method."
   ]
  },
  {
   "cell_type": "markdown",
   "metadata": {},
   "source": [
    "## Actions\n",
    "\n",
    "`System.Action` is the standard library type for void delegates, methods that don't return a value. By default it's parameterless, but it can have parameters with generics."
   ]
  },
  {
   "cell_type": "code",
   "execution_count": null,
   "metadata": {
    "dotnet_interactive": {
     "language": "csharp"
    }
   },
   "outputs": [
    {
     "name": "stdout",
     "output_type": "stream",
     "text": [
      "Action done.\r\n"
     ]
    }
   ],
   "source": [
    "Action action = () => Console.WriteLine(\"Action done.\");\n",
    "// invoked as method call\n",
    "action()"
   ]
  },
  {
   "cell_type": "code",
   "execution_count": null,
   "metadata": {
    "dotnet_interactive": {
     "language": "csharp"
    }
   },
   "outputs": [
    {
     "name": "stdout",
     "output_type": "stream",
     "text": [
      "My action done.\r\n"
     ]
    }
   ],
   "source": [
    "// user-declared delegate\n",
    "delegate void MyAction();\n",
    "MyAction myAction = () => Console.WriteLine(\"My action done.\");\n",
    "myAction()"
   ]
  },
  {
   "cell_type": "code",
   "execution_count": null,
   "metadata": {
    "dotnet_interactive": {
     "language": "csharp"
    }
   },
   "outputs": [
    {
     "ename": "Error",
     "evalue": "(1,26): error CS1593: Delegate 'Action' does not take 1 arguments",
     "output_type": "error",
     "traceback": [
      "(1,26): error CS1593: Delegate 'Action' does not take 1 arguments"
     ]
    }
   ],
   "source": [
    "Action actionWithParam = (int i) => Console.WriteLine(i);"
   ]
  },
  {
   "cell_type": "markdown",
   "metadata": {},
   "source": [
    "Declaring an `Action` with generic types to invoke it with parameters:"
   ]
  },
  {
   "cell_type": "code",
   "execution_count": null,
   "metadata": {
    "dotnet_interactive": {
     "language": "csharp"
    }
   },
   "outputs": [
    {
     "name": "stdout",
     "output_type": "stream",
     "text": [
      "0\r\n"
     ]
    }
   ],
   "source": [
    "// type of lambda parameter `i` is determined from declaration of delegate object\n",
    "Action<int> actionOnInteger1 = i => Console.WriteLine(i);\n",
    "// same as\n",
    "// type of delegate object is determined from definition of lambda\n",
    "var actionOnInteger2 = (int i) => Console.WriteLine(i);\n",
    "actionOnInteger2(0)"
   ]
  },
  {
   "cell_type": "code",
   "execution_count": null,
   "metadata": {
    "dotnet_interactive": {
     "language": "csharp"
    }
   },
   "outputs": [
    {
     "data": {
      "text/html": [
       "<span><a href=\"https://docs.microsoft.com/dotnet/api/system.action-1?view=net-5.0\">System.Action&lt;System.Int32&gt;</a></span>"
      ]
     },
     "metadata": {},
     "output_type": "display_data"
    }
   ],
   "source": [
    "actionOnInteger2.GetType()"
   ]
  },
  {
   "cell_type": "code",
   "execution_count": null,
   "metadata": {
    "dotnet_interactive": {
     "language": "csharp"
    }
   },
   "outputs": [
    {
     "ename": "Error",
     "evalue": "(1,40): error CS8030: Anonymous function converted to a void returning delegate cannot return a value",
     "output_type": "error",
     "traceback": [
      "(1,40): error CS8030: Anonymous function converted to a void returning delegate cannot return a value"
     ]
    }
   ],
   "source": [
    "Action<int> actionThatReturns = i => { return i * 2; };"
   ]
  },
  {
   "cell_type": "markdown",
   "metadata": {},
   "source": [
    "Remember, `Action` is declared as a void delegate."
   ]
  },
  {
   "cell_type": "markdown",
   "metadata": {},
   "source": [
    "## Funcs\n",
    "\n",
    "`System.Func` is the standard library type for delegates that encapsulate methods that return a value. It can have parameters with generics too."
   ]
  },
  {
   "cell_type": "markdown",
   "metadata": {},
   "source": []
  }
 ],
 "metadata": {
  "kernelspec": {
   "display_name": ".NET (C#)",
   "language": "C#",
   "name": ".net-csharp"
  },
  "language_info": {
   "name": "C#"
  }
 },
 "nbformat": 4,
 "nbformat_minor": 2
}
