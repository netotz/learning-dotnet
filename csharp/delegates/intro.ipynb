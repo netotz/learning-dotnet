{
 "cells": [
  {
   "cell_type": "markdown",
   "metadata": {
    "dotnet_interactive": {
     "language": "csharp"
    }
   },
   "source": [
    "# Understanding delegates\n",
    "\n",
    "A delegate encapsulates a method."
   ]
  },
  {
   "cell_type": "markdown",
   "metadata": {},
   "source": [
    "## Actions\n",
    "\n",
    "`System.Action` is the standard library type for void delegates, methods that don't return a value. By default it's parameterless, but it can have parameters with generics."
   ]
  },
  {
   "cell_type": "code",
   "execution_count": null,
   "metadata": {
    "dotnet_interactive": {
     "language": "csharp"
    }
   },
   "outputs": [
    {
     "name": "stdout",
     "output_type": "stream",
     "text": [
      "Action done.\r\n"
     ]
    }
   ],
   "source": [
    "Action action = () => Console.WriteLine(\"Action done.\");\n",
    "// invoked as method call\n",
    "action()"
   ]
  },
  {
   "cell_type": "code",
   "execution_count": null,
   "metadata": {
    "dotnet_interactive": {
     "language": "csharp"
    }
   },
   "outputs": [
    {
     "name": "stdout",
     "output_type": "stream",
     "text": [
      "My action done.\r\n"
     ]
    }
   ],
   "source": [
    "// user-declared delegate, no parameters\n",
    "delegate void MyAction();\n",
    "MyAction myAction = () => Console.WriteLine(\"My action done.\");\n",
    "myAction()"
   ]
  },
  {
   "cell_type": "markdown",
   "metadata": {},
   "source": [
    "I'm using lambdas here, which are anonymous functions that are defined on the fly, but delegates can accept already defined methods as well:"
   ]
  },
  {
   "cell_type": "code",
   "execution_count": null,
   "metadata": {
    "dotnet_interactive": {
     "language": "csharp"
    }
   },
   "outputs": [
    {
     "name": "stdout",
     "output_type": "stream",
     "text": [
      "Done.\r\n"
     ]
    }
   ],
   "source": [
    "/// Method that writes \"Done.\" to console output.\n",
    "public void WriteDone() {\n",
    "    Console.WriteLine(\"Done.\");\n",
    "}\n",
    "\n",
    "Action actionDone = WriteDone;\n",
    "actionDone()"
   ]
  },
  {
   "cell_type": "code",
   "execution_count": null,
   "metadata": {
    "dotnet_interactive": {
     "language": "csharp"
    }
   },
   "outputs": [
    {
     "ename": "Error",
     "evalue": "(1,26): error CS1593: Delegate 'Action' does not take 1 arguments",
     "output_type": "error",
     "traceback": [
      "(1,26): error CS1593: Delegate 'Action' does not take 1 arguments"
     ]
    }
   ],
   "source": [
    "Action actionWithParam = (int i) => Console.WriteLine(i);"
   ]
  },
  {
   "cell_type": "markdown",
   "metadata": {},
   "source": [
    "Declaring an `Action` with generic types to invoke it with parameters:"
   ]
  },
  {
   "cell_type": "code",
   "execution_count": null,
   "metadata": {
    "dotnet_interactive": {
     "language": "csharp"
    }
   },
   "outputs": [
    {
     "name": "stdout",
     "output_type": "stream",
     "text": [
      "0\r\n"
     ]
    }
   ],
   "source": [
    "// type of lambda parameter `i` is determined from declaration of delegate object\n",
    "Action<int> actionOnInteger1 = i => Console.WriteLine(i);\n",
    "// same as\n",
    "// type of delegate object is determined from definition of lambda\n",
    "var actionOnInteger2 = (int i) => Console.WriteLine(i);\n",
    "actionOnInteger2(0)"
   ]
  },
  {
   "cell_type": "code",
   "execution_count": null,
   "metadata": {
    "dotnet_interactive": {
     "language": "csharp"
    }
   },
   "outputs": [
    {
     "data": {
      "text/html": [
       "<span><a href=\"https://docs.microsoft.com/dotnet/api/system.action-1?view=net-5.0\">System.Action&lt;System.Int32&gt;</a></span>"
      ]
     },
     "metadata": {},
     "output_type": "display_data"
    }
   ],
   "source": [
    "actionOnInteger2.GetType()"
   ]
  },
  {
   "cell_type": "code",
   "execution_count": null,
   "metadata": {
    "dotnet_interactive": {
     "language": "csharp"
    }
   },
   "outputs": [
    {
     "name": "stdout",
     "output_type": "stream",
     "text": [
      "0\r\n"
     ]
    }
   ],
   "source": [
    "// user-declared delegate, one parameter\n",
    "delegate void MyActionOnInteger(int i);\n",
    "MyActionOnInteger myActionOnInteger = i => Console.WriteLine(i);\n",
    "myActionOnInteger(0)"
   ]
  },
  {
   "cell_type": "code",
   "execution_count": null,
   "metadata": {
    "dotnet_interactive": {
     "language": "csharp"
    }
   },
   "outputs": [
    {
     "ename": "Error",
     "evalue": "(1,40): error CS8030: Anonymous function converted to a void returning delegate cannot return a value",
     "output_type": "error",
     "traceback": [
      "(1,40): error CS8030: Anonymous function converted to a void returning delegate cannot return a value"
     ]
    }
   ],
   "source": [
    "Action<int> actionThatReturns = i => { return i * 2; };"
   ]
  },
  {
   "cell_type": "markdown",
   "metadata": {},
   "source": [
    "Remember, `Action` is declared as a void delegate, it can't return any value."
   ]
  },
  {
   "cell_type": "markdown",
   "metadata": {},
   "source": [
    "## Funcs\n",
    "\n",
    "`System.Func` is the standard library type for delegates that encapsulate methods that return a value. It can have parameters with generics too."
   ]
  },
  {
   "cell_type": "code",
   "execution_count": null,
   "metadata": {
    "dotnet_interactive": {
     "language": "csharp"
    }
   },
   "outputs": [
    {
     "data": {
      "text/plain": [
       "Function returned."
      ]
     },
     "metadata": {},
     "output_type": "display_data"
    }
   ],
   "source": [
    "// the last generic type is the return type. Parameters are optional\n",
    "Func<string> func = () => \"Function returned.\";\n",
    "var returned = func();\n",
    "returned"
   ]
  },
  {
   "cell_type": "code",
   "execution_count": null,
   "metadata": {
    "dotnet_interactive": {
     "language": "csharp"
    }
   },
   "outputs": [
    {
     "data": {
      "text/plain": [
       "My function returned."
      ]
     },
     "metadata": {},
     "output_type": "display_data"
    }
   ],
   "source": [
    "// user-declared delegate that returns a string, same as previous Func\n",
    "delegate string MyFunc();\n",
    "MyFunc myFunc = () => \"My function returned.\";\n",
    "returned = myFunc();\n",
    "returned"
   ]
  },
  {
   "cell_type": "code",
   "execution_count": null,
   "metadata": {
    "dotnet_interactive": {
     "language": "csharp"
    }
   },
   "outputs": [
    {
     "data": {
      "text/html": [
       "<div class=\"dni-plaintext\">6</div>"
      ]
     },
     "metadata": {},
     "output_type": "display_data"
    }
   ],
   "source": [
    "Func<int, int, int> funcMultiply = (x, y) => x * y;\n",
    "funcMultiply(2, 3)"
   ]
  },
  {
   "cell_type": "code",
   "execution_count": null,
   "metadata": {
    "dotnet_interactive": {
     "language": "csharp"
    }
   },
   "outputs": [
    {
     "data": {
      "text/html": [
       "<div class=\"dni-plaintext\">6</div>"
      ]
     },
     "metadata": {},
     "output_type": "display_data"
    }
   ],
   "source": [
    "delegate int MyFuncMultiply(int x, int y);\n",
    "MyFuncMultiply myFuncMultiply = (x, y) => x * y;\n",
    "myFuncMultiply(2, 3)"
   ]
  },
  {
   "cell_type": "markdown",
   "metadata": {},
   "source": [
    "## Multicasting\n",
    "\n",
    "A delegate can call multiple methods when invoked:"
   ]
  },
  {
   "cell_type": "code",
   "execution_count": null,
   "metadata": {
    "dotnet_interactive": {
     "language": "csharp"
    }
   },
   "outputs": [
    {
     "name": "stdout",
     "output_type": "stream",
     "text": [
      "first method\r\n",
      "Action done.\r\n",
      "Done.\r\n",
      "last method\r\n"
     ]
    }
   ],
   "source": [
    "Action actions = () => Console.WriteLine(\"first method\");\n",
    "actions += action;\n",
    "actions += actionDone;\n",
    "actions += () => Console.WriteLine(\"last method\");\n",
    "actions()"
   ]
  },
  {
   "cell_type": "code",
   "execution_count": null,
   "metadata": {
    "dotnet_interactive": {
     "language": "csharp"
    }
   },
   "outputs": [
    {
     "data": {
      "text/html": [
       "<div class=\"dni-plaintext\">4</div>"
      ]
     },
     "metadata": {},
     "output_type": "display_data"
    }
   ],
   "source": [
    "actions.GetInvocationList().Count()"
   ]
  },
  {
   "cell_type": "markdown",
   "metadata": {},
   "source": [
    "## Use cases\n",
    "\n",
    "- There's no need to declare new custom delegates, use `Action` and `Func` types.\n",
    "- You can just use `var` and declare the types in the lambda definition. So why being aware of delegate types?:"
   ]
  },
  {
   "cell_type": "markdown",
   "metadata": {},
   "source": [
    "### Delegates as abstractions\n",
    "\n",
    "Code calling a delegate used as an abstraction doesn't need to know (and doesn't care) about how that delegate is implemented."
   ]
  },
  {
   "cell_type": "code",
   "execution_count": null,
   "metadata": {
    "dotnet_interactive": {
     "language": "csharp"
    }
   },
   "outputs": [],
   "source": [
    "public void WriteAsUpper(string message) {\n",
    "    Console.WriteLine(message.ToUpper());\n",
    "}\n",
    "\n",
    "public void WriteLength(string message) {\n",
    "    Console.WriteLine(message.Length);\n",
    "}\n",
    "\n",
    "public string CreateMessage(string title, string text, DateTime date, Action<string> writeCallback) {\n",
    "    var message = $\"{title}\\n{text}\\n{date.ToLongDateString()}\";\n",
    "\n",
    "    // I already know the delegate type: it receives a string and doesn't return anything. Ok more than enough info\n",
    "    // But what does it do? I COULD CARE LESS, just call it :)\n",
    "    writeCallback(message);\n",
    "    \n",
    "    return message;\n",
    "}"
   ]
  },
  {
   "cell_type": "code",
   "execution_count": null,
   "metadata": {
    "dotnet_interactive": {
     "language": "csharp"
    }
   },
   "outputs": [
    {
     "name": "stdout",
     "output_type": "stream",
     "text": [
      "44\r\n"
     ]
    }
   ],
   "source": [
    "var redMessage = CreateMessage(\"Red\", \"Roses are red\", DateTime.Now, WriteLength);"
   ]
  },
  {
   "cell_type": "code",
   "execution_count": null,
   "metadata": {
    "dotnet_interactive": {
     "language": "csharp"
    }
   },
   "outputs": [
    {
     "data": {
      "text/plain": [
       "Red\n",
       "Roses are red\n",
       "Saturday, January 15, 2022"
      ]
     },
     "metadata": {},
     "output_type": "display_data"
    }
   ],
   "source": [
    "redMessage"
   ]
  },
  {
   "cell_type": "code",
   "execution_count": null,
   "metadata": {
    "dotnet_interactive": {
     "language": "csharp"
    }
   },
   "outputs": [
    {
     "name": "stdout",
     "output_type": "stream",
     "text": [
      "BLUE\n",
      "BLUE ROSES ARE FAKE\n",
      "SATURDAY, JANUARY 15, 2022\r\n"
     ]
    }
   ],
   "source": [
    "var blueMessage = CreateMessage(\"Blue\", \"Blue roses are fake\", DateTime.Now, WriteAsUpper);"
   ]
  },
  {
   "cell_type": "markdown",
   "metadata": {},
   "source": [
    "In the above example, `CreateMessage` was defined to create a message and return it. It wasn't defined thinking about the console. If this method could speak it would tell you:\n",
    "> If you want to show the message in console, create a delegate to do it and pass it to me as the `callback` parameter. Or whatever you want to do with it just create a delegate for that and pass it. I don't care, that's the callback's job."
   ]
  },
  {
   "cell_type": "markdown",
   "metadata": {},
   "source": []
  }
 ],
 "metadata": {
  "kernelspec": {
   "display_name": ".NET (C#)",
   "language": "C#",
   "name": ".net-csharp"
  },
  "language_info": {
   "name": "C#"
  }
 },
 "nbformat": 4,
 "nbformat_minor": 2
}
