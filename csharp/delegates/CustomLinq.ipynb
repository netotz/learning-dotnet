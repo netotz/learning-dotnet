{
 "cells": [
  {
   "cell_type": "markdown",
   "metadata": {},
   "source": [
    "# Implementing custom LINQ operations\n",
    "\n",
    "If you have used LINQ you know that it uses functions to process collections of data. The purpose of this exercise is to apply delegates in a \n",
    "more practical way than just dummy examples.\n",
    "\n",
    "**Note:** I'm not using tags inside docstrings because Visual Studio Code doesn't autocomplete them in notebooks, but they must be included in real code."
   ]
  },
  {
   "cell_type": "code",
   "execution_count": null,
   "metadata": {
    "dotnet_interactive": {
     "language": "csharp"
    }
   },
   "outputs": [],
   "source": [
    "/// Inheriting from List to skip specific implementations from interfaces, irrelevant for our topic,\n",
    "/// so we can use foreach statements directly and focus on our custom methods and delegates.\n",
    "class IntList : List<int> {\n",
    "    /// Custom delegate equivalent to Func<int, bool>\n",
    "    public delegate bool ConditionCallback(int integer);\n",
    "\n",
    "    /// Equivalent for Where\n",
    "    public IEnumerable<int> Filter(ConditionCallback condition) {\n",
    "        foreach (var integer in this) {\n",
    "            if (condition(integer)) {\n",
    "                yield return integer;\n",
    "            }\n",
    "        }\n",
    "    }\n",
    "\n",
    "    /// Equivalent for Select<T>\n",
    "    public IEnumerable<TReturn> Map<TReturn>(Func<int, TReturn> mapper) {\n",
    "        foreach (var integer in this) {\n",
    "            yield return mapper(integer);\n",
    "        }\n",
    "    }\n",
    "\n",
    "    /// Equivalent for All\n",
    "    public bool Every(ConditionCallback condition) {\n",
    "        foreach (var integer in this) {\n",
    "            if (!condition(integer)) {\n",
    "                return false;\n",
    "            }\n",
    "        }\n",
    "\n",
    "        return true;\n",
    "    }\n",
    "\n",
    "    /// Equivalent for Any\n",
    "    public bool Some(ConditionCallback condition) {\n",
    "        foreach (var integer in this) {\n",
    "            if (condition(integer)) {\n",
    "                return true;\n",
    "            }\n",
    "        }\n",
    "\n",
    "        return false;\n",
    "    }\n",
    "}"
   ]
  },
  {
   "cell_type": "markdown",
   "metadata": {},
   "source": [
    "In the above code, each method invokes its delegate parameter, thus calling the function it encapsulates."
   ]
  },
  {
   "cell_type": "code",
   "execution_count": null,
   "metadata": {
    "dotnet_interactive": {
     "language": "csharp"
    }
   },
   "outputs": [],
   "source": [
    "var ints = new IntList { 1, 2, 3, 4, 5, 6, 7, 8, 9, 10 };"
   ]
  },
  {
   "cell_type": "markdown",
   "metadata": {},
   "source": [
    "Using lambdas for throwaway functions:"
   ]
  },
  {
   "cell_type": "code",
   "execution_count": null,
   "metadata": {
    "dotnet_interactive": {
     "language": "csharp"
    }
   },
   "outputs": [
    {
     "data": {
      "text/html": [
       "<table><thead><tr><th><i>index</i></th><th>value</th></tr></thead><tbody><tr><td>0</td><td><div class=\"dni-plaintext\">0.2</div></td></tr><tr><td>1</td><td><div class=\"dni-plaintext\">0.4</div></td></tr><tr><td>2</td><td><div class=\"dni-plaintext\">0.6</div></td></tr><tr><td>3</td><td><div class=\"dni-plaintext\">0.8</div></td></tr><tr><td>4</td><td><div class=\"dni-plaintext\">1</div></td></tr><tr><td>5</td><td><div class=\"dni-plaintext\">1.2</div></td></tr><tr><td>6</td><td><div class=\"dni-plaintext\">1.4</div></td></tr><tr><td>7</td><td><div class=\"dni-plaintext\">1.6</div></td></tr><tr><td>8</td><td><div class=\"dni-plaintext\">1.8</div></td></tr><tr><td>9</td><td><div class=\"dni-plaintext\">2</div></td></tr></tbody></table>"
      ]
     },
     "metadata": {},
     "output_type": "display_data"
    }
   ],
   "source": [
    "// get the fifth part of each integer as double\n",
    "ints.Map(i => i / 5.0)"
   ]
  },
  {
   "cell_type": "code",
   "execution_count": null,
   "metadata": {
    "dotnet_interactive": {
     "language": "csharp"
    }
   },
   "outputs": [
    {
     "data": {
      "text/html": [
       "<table><thead><tr><th><i>index</i></th><th>value</th></tr></thead><tbody><tr><td>0</td><td>10%</td></tr><tr><td>1</td><td>20%</td></tr><tr><td>2</td><td>30%</td></tr><tr><td>3</td><td>40%</td></tr><tr><td>4</td><td>50%</td></tr><tr><td>5</td><td>60%</td></tr><tr><td>6</td><td>70%</td></tr><tr><td>7</td><td>80%</td></tr><tr><td>8</td><td>90%</td></tr><tr><td>9</td><td>100%</td></tr></tbody></table>"
      ]
     },
     "metadata": {},
     "output_type": "display_data"
    }
   ],
   "source": [
    "// get integers as string percentages\n",
    "ints.Map(i => $\"{i * 10}%\")"
   ]
  },
  {
   "cell_type": "markdown",
   "metadata": {},
   "source": [
    "Implementing methods to reuse as callbacks:"
   ]
  },
  {
   "cell_type": "code",
   "execution_count": null,
   "metadata": {
    "dotnet_interactive": {
     "language": "csharp"
    }
   },
   "outputs": [],
   "source": [
    "bool IsEven(int integer) {\n",
    "    return integer % 2 == 0;\n",
    "}\n",
    "\n",
    "bool IsOdd(int integer) {\n",
    "    // reuse code!\n",
    "    return !IsEven(integer);\n",
    "}"
   ]
  },
  {
   "cell_type": "code",
   "execution_count": null,
   "metadata": {
    "dotnet_interactive": {
     "language": "csharp"
    }
   },
   "outputs": [
    {
     "data": {
      "text/html": [
       "<table><thead><tr><th><i>index</i></th><th>value</th></tr></thead><tbody><tr><td>0</td><td><div class=\"dni-plaintext\">2</div></td></tr><tr><td>1</td><td><div class=\"dni-plaintext\">4</div></td></tr><tr><td>2</td><td><div class=\"dni-plaintext\">6</div></td></tr><tr><td>3</td><td><div class=\"dni-plaintext\">8</div></td></tr><tr><td>4</td><td><div class=\"dni-plaintext\">10</div></td></tr></tbody></table>"
      ]
     },
     "metadata": {},
     "output_type": "display_data"
    }
   ],
   "source": [
    "ints.Filter(IsEven)"
   ]
  },
  {
   "cell_type": "code",
   "execution_count": null,
   "metadata": {
    "dotnet_interactive": {
     "language": "csharp"
    }
   },
   "outputs": [
    {
     "data": {
      "text/html": [
       "<table><thead><tr><th><i>index</i></th><th>value</th></tr></thead><tbody><tr><td>0</td><td><div class=\"dni-plaintext\">1</div></td></tr><tr><td>1</td><td><div class=\"dni-plaintext\">3</div></td></tr><tr><td>2</td><td><div class=\"dni-plaintext\">5</div></td></tr><tr><td>3</td><td><div class=\"dni-plaintext\">7</div></td></tr><tr><td>4</td><td><div class=\"dni-plaintext\">9</div></td></tr></tbody></table>"
      ]
     },
     "metadata": {},
     "output_type": "display_data"
    }
   ],
   "source": [
    "ints.Filter(IsOdd)"
   ]
  },
  {
   "cell_type": "code",
   "execution_count": null,
   "metadata": {
    "dotnet_interactive": {
     "language": "csharp"
    }
   },
   "outputs": [
    {
     "data": {
      "text/html": [
       "<div class=\"dni-plaintext\">True</div>"
      ]
     },
     "metadata": {},
     "output_type": "display_data"
    }
   ],
   "source": [
    "// are there some even integers?\n",
    "ints.Some(IsEven)"
   ]
  },
  {
   "cell_type": "code",
   "execution_count": null,
   "metadata": {
    "dotnet_interactive": {
     "language": "csharp"
    }
   },
   "outputs": [
    {
     "data": {
      "text/html": [
       "<div class=\"dni-plaintext\">True</div>"
      ]
     },
     "metadata": {},
     "output_type": "display_data"
    }
   ],
   "source": [
    "var odds = new IntList { 3, 5, 7, 11, 13, 17 };\n",
    "// is every integer odd?\n",
    "odds.Every(IsOdd)"
   ]
  }
 ],
 "metadata": {
  "kernelspec": {
   "display_name": ".NET (C#)",
   "language": "C#",
   "name": ".net-csharp"
  },
  "language_info": {
   "file_extension": ".cs",
   "mimetype": "text/x-csharp",
   "name": "C#",
   "pygments_lexer": "csharp",
   "version": "9.0"
  },
  "orig_nbformat": 4
 },
 "nbformat": 4,
 "nbformat_minor": 2
}
